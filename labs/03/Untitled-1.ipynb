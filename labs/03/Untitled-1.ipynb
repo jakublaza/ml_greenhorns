{
 "cells": [
  {
   "cell_type": "code",
   "execution_count": 60,
   "metadata": {},
   "outputs": [],
   "source": [
    "import argparse\n",
    "import lzma\n",
    "import os\n",
    "import pickle\n",
    "import sys\n",
    "from typing import Optional\n",
    "import urllib.request\n",
    "import sklearn.compose\n",
    "import sklearn.datasets\n",
    "import sklearn.model_selection\n",
    "import sklearn.pipeline\n",
    "import sklearn.preprocessing\n",
    "import sklearn.linear_model\n",
    "import sklearn.metrics\n",
    "import sklearn.decomposition\n",
    "import matplotlib.pyplot as plt\n",
    "import warnings\n",
    "\n",
    "import numpy as np\n",
    "import numpy.typing as npt"
   ]
  },
  {
   "cell_type": "code",
   "execution_count": 6,
   "metadata": {},
   "outputs": [],
   "source": [
    "name=\"thyroid_competition.train.npz\"\n",
    "dataset = np.load(name)\n",
    "for key, value in dataset.items():\n",
    "    setattr(dataset, key, value)"
   ]
  },
  {
   "cell_type": "code",
   "execution_count": 13,
   "metadata": {},
   "outputs": [],
   "source": [
    "np.random.seed(42)\n",
    "train = dataset.data"
   ]
  },
  {
   "cell_type": "code",
   "execution_count": 32,
   "metadata": {},
   "outputs": [
    {
     "data": {
      "text/plain": [
       "(array([ 22., 152., 390., 537., 431., 534., 737., 609., 299.,  61.]),\n",
       " array([0.01 , 0.103, 0.196, 0.289, 0.382, 0.475, 0.568, 0.661, 0.754,\n",
       "        0.847, 0.94 ]),\n",
       " <BarContainer object of 10 artists>)"
      ]
     },
     "execution_count": 32,
     "metadata": {},
     "output_type": "execute_result"
    },
    {
     "data": {
      "image/png": "[encoded data removed]",
      "text/plain": [
       "<Figure size 640x480 with 1 Axes>"
      ]
     },
     "metadata": {},
     "output_type": "display_data"
    }
   ],
   "source": [
    "plt.hist(dataset.data[:, 15])"
   ]
  },
  {
   "cell_type": "code",
   "execution_count": 44,
   "metadata": {},
   "outputs": [],
   "source": [
    "warnings.filterwarnings(\"ignore\", category=sklearn.exceptions.ConvergenceWarning)"
   ]
  },
  {
   "cell_type": "code",
   "execution_count": 255,
   "metadata": {},
   "outputs": [],
   "source": [
    "X_train, X_test, y_train, y_test = sklearn.model_selection.train_test_split(dataset.data, dataset.target, test_size=0.2, random_state=42)"
   ]
  },
  {
   "cell_type": "code",
   "execution_count": 279,
   "metadata": {},
   "outputs": [],
   "source": [
    "col_int = np.all(X_train.astype(int) == X_train, axis=0)\n",
    "transformer = sklearn.compose.ColumnTransformer([(\"Cat\", sklearn.preprocessing.OneHotEncoder(sparse=False, handle_unknown=\"ignore\"), col_int), (\"Std\", sklearn.preprocessing.StandardScaler(), ~col_int)])\n",
    "polynomial = sklearn.preprocessing.PolynomialFeatures(include_bias=False)\n",
    "pca = sklearn.decomposition.PCA()\n",
    "model = sklearn.linear_model.LogisticRegression(random_state=42)\n",
    "pipeline = sklearn.pipeline.Pipeline([(\"transformer\", transformer), (\"polynomial\", polynomial), ('pca', pca), ('logistic reg', model)])    "
   ]
  },
  {
   "cell_type": "code",
   "execution_count": 366,
   "metadata": {},
   "outputs": [],
   "source": [
    "CV = sklearn.model_selection.GridSearchCV(pipeline, {'polynomial__degree':[3], 'logistic reg__C':[1000, 2000], \"pca__n_components\": [1000, 1500]}, \n",
    "                                    cv = sklearn.model_selection.StratifiedKFold(5), refit = True)"
   ]
  },
  {
   "cell_type": "code",
   "execution_count": 85,
   "metadata": {},
   "outputs": [
    {
     "name": "stdout",
     "output_type": "stream",
     "text": [
      "(3772, 21)\n"
     ]
    }
   ],
   "source": []
  },
  {
   "cell_type": "code",
   "execution_count": 368,
   "metadata": {},
   "outputs": [],
   "source": [
    "model = CV.fit(dataset.data, dataset.target)\n"
   ]
  },
  {
   "cell_type": "code",
   "execution_count": 369,
   "metadata": {},
   "outputs": [
    {
     "name": "stdout",
     "output_type": "stream",
     "text": [
      "Rank:  3 Cross-val: 98.4% logistic reg__C: 1000  pca__n_components: 1000  polynomial__degree: 3    \n",
      "Rank:  3 Cross-val: 98.4% logistic reg__C: 1000  pca__n_components: 1500  polynomial__degree: 3    \n",
      "Rank:  1 Cross-val: 98.4% logistic reg__C: 2000  pca__n_components: 1000  polynomial__degree: 3    \n",
      "Rank:  1 Cross-val: 98.4% logistic reg__C: 2000  pca__n_components: 1500  polynomial__degree: 3    \n"
     ]
    }
   ],
   "source": [
    "for rank, accuracy, params in zip(model.cv_results_[\"rank_test_score\"],\n",
    "    model.cv_results_[\"mean_test_score\"],\n",
    "    model.cv_results_[\"params\"]):\n",
    "    print(\"Rank: {:2d} Cross-val: {:.1f}%\".format(rank, 100 * accuracy),\n",
    "    *(\"{}: {:<5}\".format(key, value) for key, value in params.items()))\n"
   ]
  },
  {
   "cell_type": "code",
   "execution_count": 370,
   "metadata": {},
   "outputs": [
    {
     "data": {
      "text/plain": [
       "1.0"
      ]
     },
     "execution_count": 370,
     "metadata": {},
     "output_type": "execute_result"
    }
   ],
   "source": [
    "test_accuracy = model.score(X_test, y_test)\n",
    "test_accuracy"
   ]
  },
  {
   "cell_type": "code",
   "execution_count": 183,
   "metadata": {},
   "outputs": [
    {
     "data": {
      "text/plain": [
       "0.9854304635761589"
      ]
     },
     "execution_count": 183,
     "metadata": {},
     "output_type": "execute_result"
    }
   ],
   "source": [
    "train_accuracy = sklearn.metrics.accuracy_score(y_test, pred)\n",
    "train_accuracy"
   ]
  },
  {
   "cell_type": "code",
   "execution_count": null,
   "metadata": {},
   "outputs": [],
   "source": []
  }
 ],
 "metadata": {
  "kernelspec": {
   "display_name": "Python 3.10.7 ('.venv')",
   "language": "python",
   "name": "python3"
  },
  "language_info": {
   "codemirror_mode": {
    "name": "ipython",
    "version": 3
   },
   "file_extension": ".py",
   "mimetype": "text/x-python",
   "name": "python",
   "nbconvert_exporter": "python",
   "pygments_lexer": "ipython3",
   "version": "3.10.7"
  },
  "orig_nbformat": 4,
  "vscode": {
   "interpreter": {
    "hash": "3001e99712915f3ee79ff1759fc222ccad08d5681c13bc45f496d96ab96d9145"
   }
  }
 },
 "nbformat": 4,
 "nbformat_minor": 2
}
